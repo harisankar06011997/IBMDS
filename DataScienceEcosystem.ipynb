{
 "cells": [
  {
   "cell_type": "markdown",
   "id": "6c74cb92-0dd3-4575-af0b-1b8f36936d81",
   "metadata": {},
   "source": [
    "# Data Science Tools and Ecosystem"
   ]
  },
  {
   "cell_type": "markdown",
   "id": "40a05e8d-7e5d-4b3a-9db6-9079bca36992",
   "metadata": {},
   "source": [
    "In this notebook, Data Science Tools and Ecosystem are summarized."
   ]
  },
  {
   "cell_type": "markdown",
   "id": "9569baf1-7c0d-42dd-80de-4305ae17be65",
   "metadata": {},
   "source": [
    "Some of the popular languages that Data Scientists use are:\n",
    "1. Python\n",
    "1. SQL\n",
    "1. HTML\n",
    "1. Javascript"
   ]
  },
  {
   "cell_type": "markdown",
   "id": "437c6093-c538-4ea8-b9a3-f932c2e6b641",
   "metadata": {},
   "source": [
    "Some of the commonly used libraries used by Data Scientists include: \n",
    "1. Pytorch \n",
    "1. Tensorflow\n",
    "1. Pandas"
   ]
  },
  {
   "cell_type": "markdown",
   "id": "d0028b16-88c3-4c79-a70e-2c92c2755fbc",
   "metadata": {},
   "source": [
    "| Data Science Tools |\n",
    "| --- |\n",
    "| GitHub |\n",
    "| Jupiter Notebook |\n",
    "| Google Colab |"
   ]
  },
  {
   "cell_type": "markdown",
   "id": "a2a1b7ea-d66f-4709-9d36-96593a98d0f2",
   "metadata": {},
   "source": [
    "### Below are a few examples of evaluating arithmetic expressions in Python"
   ]
  },
  {
   "cell_type": "code",
   "execution_count": 4,
   "id": "73b542f7-e850-4917-a1b9-dc845eeac069",
   "metadata": {},
   "outputs": [
    {
     "data": {
      "text/plain": [
       "17"
      ]
     },
     "execution_count": 4,
     "metadata": {},
     "output_type": "execute_result"
    }
   ],
   "source": [
    "# This is a simple arithmetic expression to mutliply then add integers\n",
    "(3*4)+5"
   ]
  },
  {
   "cell_type": "code",
   "execution_count": 5,
   "id": "2b930b8d-b9a4-4e8c-b561-faf33411bede",
   "metadata": {},
   "outputs": [
    {
     "data": {
      "text/plain": [
       "3.3333333333333335"
      ]
     },
     "execution_count": 5,
     "metadata": {},
     "output_type": "execute_result"
    }
   ],
   "source": [
    "# This will convert 200 minutes to hours by diving by 60\n",
    "200/60"
   ]
  },
  {
   "cell_type": "code",
   "execution_count": 6,
   "id": "1606bd38-5045-4965-8702-530018d47a8d",
   "metadata": {},
   "outputs": [
    {
     "ename": "SyntaxError",
     "evalue": "invalid syntax (2479173947.py, line 1)",
     "output_type": "error",
     "traceback": [
      "\u001b[0;36m  Cell \u001b[0;32mIn[6], line 1\u001b[0;36m\u001b[0m\n\u001b[0;31m    Objectives: *R *Python *Matlab\u001b[0m\n\u001b[0m                ^\u001b[0m\n\u001b[0;31mSyntaxError\u001b[0m\u001b[0;31m:\u001b[0m invalid syntax\n"
     ]
    }
   ],
   "source": [
    "Objectives: *R *Python *Matlab"
   ]
  },
  {
   "cell_type": "markdown",
   "id": "1a665966-5c42-450f-b38a-93cb31eee312",
   "metadata": {},
   "source": [
    "## Harisankar Tandasa"
   ]
  }
 ],
 "metadata": {
  "kernelspec": {
   "display_name": "Python 3 (ipykernel)",
   "language": "python",
   "name": "python3"
  },
  "language_info": {
   "codemirror_mode": {
    "name": "ipython",
    "version": 3
   },
   "file_extension": ".py",
   "mimetype": "text/x-python",
   "name": "python",
   "nbconvert_exporter": "python",
   "pygments_lexer": "ipython3",
   "version": "3.12.8"
  }
 },
 "nbformat": 4,
 "nbformat_minor": 5
}
